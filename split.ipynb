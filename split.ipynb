{
 "cells": [
  {
   "cell_type": "code",
   "execution_count": 5,
   "metadata": {},
   "outputs": [],
   "source": [
    "import random, shutil, os, tqdm\n",
    "train_rate, val_rate, test_rate = 0.7, 0.2, 0.1"
   ]
  },
  {
   "cell_type": "code",
   "execution_count": 9,
   "metadata": {},
   "outputs": [],
   "source": [
    "def check_dir():\n",
    "    if not os.path.exists(\"./results/\"):\n",
    "        os.mkdir(\"./results/\")\n",
    "    if not os.path.exists(\"./results/train/\"):\n",
    "        os.mkdir(\"./results/train/\")\n",
    "    if not os.path.exists(\"./results/test/\"):\n",
    "        os.mkdir(\"./results/test/\")\n",
    "    if not os.path.exists(\"./results/valid/\"):\n",
    "        os.mkdir(\"./results/valid/\")\n",
    "\n",
    "    if not os.path.exists(\"./results/train/images/\"):\n",
    "        os.mkdir(\"./results/train/images/\")\n",
    "    if not os.path.exists(\"./results/train/labels/\"):\n",
    "        os.mkdir(\"./results/train/labels/\")\n",
    "\n",
    "    if not os.path.exists(\"./results/test/images\"):\n",
    "        os.mkdir(\"./results/test/images\")\n",
    "    if not os.path.exists(\"./results/test/labels\"):\n",
    "        os.mkdir(\"./results/test/labels\")\n",
    "\n",
    "    if not os.path.exists(\"./results/valid/images\"):\n",
    "        os.mkdir(\"./results/valid/images\")\n",
    "    if not os.path.exists(\"./results/valid/labels\"):\n",
    "        os.mkdir(\"./results/valid/labels\")"
   ]
  },
  {
   "cell_type": "code",
   "execution_count": 11,
   "metadata": {},
   "outputs": [],
   "source": [
    "def work():\n",
    "\n",
    "    image_dir = \"./images/\"\n",
    "    label_dir = \"./labels/\"\n",
    "\n",
    "    img_list = os.listdir(image_dir)\n",
    "    random.shuffle(img_list)\n",
    "\n",
    "    img_num = len(os.listdir(image_dir))\n",
    "\n",
    "    train_num = int(img_num * train_rate)\n",
    "    test_num = int(img_num * test_rate)\n",
    "\n",
    "    train_img_list = img_list[:train_num]\n",
    "    test_img_list = img_list[train_num:train_num+test_num]\n",
    "    valid_img_list = img_list[train_num+test_num:]\n",
    "\n",
    "    qbar = tqdm.tqdm(train_img_list, desc=\"train\")\n",
    "    for i in qbar:\n",
    "        shutil.copy(image_dir+i, \"./results/train/images/\"+i)\n",
    "        shutil.copy(label_dir+i[:-4]+\".txt\", \"./results/train/labels/\"+i[:-4]+\".txt\")\n",
    "\n",
    "    qbar = tqdm.tqdm(test_img_list, desc=\"test\")\n",
    "    for i in qbar:\n",
    "        shutil.copy(image_dir+i, \"./results/test/images/\"+i)\n",
    "        shutil.copy(label_dir+i[:-4]+\".txt\", \"./results/test/labels/\"+i[:-4]+\".txt\")\n",
    "\n",
    "    qbar = tqdm.tqdm(valid_img_list, desc=\"valid\")\n",
    "    for i in qbar:\n",
    "        shutil.copy(image_dir+i, \"./results/valid/images/\"+i)\n",
    "        shutil.copy(label_dir+i[:-4]+\".txt\", \"./results/valid/labels/\"+i[:-4]+\".txt\")\n"
   ]
  },
  {
   "cell_type": "code",
   "execution_count": 12,
   "metadata": {},
   "outputs": [
    {
     "name": "stderr",
     "output_type": "stream",
     "text": [
      "Splitting: 100%|██████████| 838/838 [00:00<00:00, 8555.10it/s]\n",
      "Splitting: 100%|██████████| 119/119 [00:00<00:00, 9303.65it/s]\n",
      "Splitting: 100%|██████████| 241/241 [00:00<00:00, 7012.09it/s]\n"
     ]
    }
   ],
   "source": [
    "check_dir()\n",
    "work()"
   ]
  }
 ],
 "metadata": {
  "kernelspec": {
   "display_name": "torch",
   "language": "python",
   "name": "python3"
  },
  "language_info": {
   "codemirror_mode": {
    "name": "ipython",
    "version": 3
   },
   "file_extension": ".py",
   "mimetype": "text/x-python",
   "name": "python",
   "nbconvert_exporter": "python",
   "pygments_lexer": "ipython3",
   "version": "3.9.16"
  }
 },
 "nbformat": 4,
 "nbformat_minor": 2
}
